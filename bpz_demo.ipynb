{
 "cells": [
  {
   "cell_type": "code",
   "execution_count": 22,
   "metadata": {},
   "outputs": [],
   "source": [
    "%matplotlib inline\n",
    "from astropy.io.misc.hdf5 import read_table_hdf5\n",
    "from astropy.table import Table\n",
    "import h5py\n",
    "from matplotlib import pyplot as plt\n",
    "import numpy as np"
   ]
  },
  {
   "cell_type": "markdown",
   "metadata": {},
   "source": [
    "El archivo `.bpz.h5` contiene algunas estadísticas de resumen de cada redshift fotométrico:"
   ]
  },
  {
   "cell_type": "code",
   "execution_count": 29,
   "metadata": {},
   "outputs": [
    {
     "name": "stderr",
     "output_type": "stream",
     "text": [
      "/home/cristobal/anaconda3/envs/astroconda/lib/python3.6/site-packages/ipykernel_launcher.py:1: H5pyDeprecationWarning: The default file mode will change to 'r' (read-only) in h5py 3.0. To suppress this warning, pass the mode you need to h5py.File(), or set the global default h5.get_config().default_file_mode, or set the environment variable H5PY_DEFAULT_READONLY=1. Available modes are: 'r', 'r+', 'w', 'w-'/'x', 'a'. See the docs for details.\n",
      "  \"\"\"Entry point for launching an IPython kernel.\n",
      "/home/cristobal/anaconda3/envs/astroconda/lib/python3.6/site-packages/ipykernel_launcher.py:2: H5pyDeprecationWarning: dataset.value has been deprecated. Use dataset[()] instead.\n",
      "  \n"
     ]
    }
   ],
   "source": [
    "with h5py.File('UDFtest.bpz.h5') as f:\n",
    "    bpz = Table({key: f.get(key).value for key in f})"
   ]
  },
  {
   "cell_type": "code",
   "execution_count": 30,
   "metadata": {},
   "outputs": [
    {
     "data": {
      "text/html": [
       "<i>Table length=4</i>\n",
       "<table id=\"table139902718530896\" class=\"table-striped table-bordered table-condensed\">\n",
       "<thead><tr><th>CHI_SQ</th><th>ID</th><th>M_0</th><th>ODDS</th><th>T_B</th><th>T_ML</th><th>Z_B</th><th>Z_B_MAX</th><th>Z_B_MIN</th><th>Z_ML</th><th>Z_S</th></tr></thead>\n",
       "<thead><tr><th>float32</th><th>int64</th><th>float32</th><th>float32</th><th>float32</th><th>float32</th><th>float32</th><th>float32</th><th>float32</th><th>float32</th><th>float32</th></tr></thead>\n",
       "<tr><td>0.48541665</td><td>3088</td><td>22.484</td><td>0.70688504</td><td>3.0</td><td>3.0</td><td>0.13</td><td>0.45</td><td>0.019263955</td><td>0.13</td><td>0.127</td></tr>\n",
       "<tr><td>49.88485</td><td>8810</td><td>22.375</td><td>1.0</td><td>4.0</td><td>4.0</td><td>0.71</td><td>0.877574</td><td>0.542426</td><td>0.71</td><td>0.736</td></tr>\n",
       "<tr><td>1.6514437</td><td>8461</td><td>23.703</td><td>0.855209</td><td>3.0</td><td>3.0</td><td>1.5</td><td>1.7449913</td><td>1.03</td><td>1.5</td><td>1.426</td></tr>\n",
       "<tr><td>0.41258305</td><td>2225</td><td>26.691</td><td>1.0</td><td>7.0</td><td>7.0</td><td>5.76</td><td>6.4224563</td><td>5.0975437</td><td>5.76</td><td>5.82</td></tr>\n",
       "</table>"
      ],
      "text/plain": [
       "<Table length=4>\n",
       "  CHI_SQ     ID    M_0      ODDS    ...  Z_B_MAX    Z_B_MIN     Z_ML    Z_S  \n",
       " float32   int64 float32  float32   ...  float32    float32   float32 float32\n",
       "---------- ----- ------- ---------- ... --------- ----------- ------- -------\n",
       "0.48541665  3088  22.484 0.70688504 ...      0.45 0.019263955    0.13   0.127\n",
       "  49.88485  8810  22.375        1.0 ...  0.877574    0.542426    0.71   0.736\n",
       " 1.6514437  8461  23.703   0.855209 ... 1.7449913        1.03     1.5   1.426\n",
       "0.41258305  2225  26.691        1.0 ... 6.4224563   5.0975437    5.76    5.82"
      ]
     },
     "execution_count": 30,
     "metadata": {},
     "output_type": "execute_result"
    }
   ],
   "source": [
    "bpz"
   ]
  },
  {
   "cell_type": "markdown",
   "metadata": {},
   "source": [
    "Por ejemplo, ``odds`` es una medida de confianza, ``T_B`` y ``Z_B`` son el template y el redshift más probables.\n",
    "\n",
    "Además, el archivo ``.probs.h5`` contiene las densidades de probabilidad como función del redshift:"
   ]
  },
  {
   "cell_type": "code",
   "execution_count": 33,
   "metadata": {},
   "outputs": [
    {
     "name": "stderr",
     "output_type": "stream",
     "text": [
      "/home/cristobal/anaconda3/envs/astroconda/lib/python3.6/site-packages/ipykernel_launcher.py:1: H5pyDeprecationWarning: The default file mode will change to 'r' (read-only) in h5py 3.0. To suppress this warning, pass the mode you need to h5py.File(), or set the global default h5.get_config().default_file_mode, or set the environment variable H5PY_DEFAULT_READONLY=1. Available modes are: 'r', 'r+', 'w', 'w-'/'x', 'a'. See the docs for details.\n",
      "  \"\"\"Entry point for launching an IPython kernel.\n"
     ]
    }
   ],
   "source": [
    "with h5py.File('UDFtest.probs.h5') as f:\n",
    "    probs = {key: f.get(key)[()] for key in f}"
   ]
  },
  {
   "cell_type": "code",
   "execution_count": 35,
   "metadata": {},
   "outputs": [
    {
     "data": {
      "text/plain": [
       "dict_keys(['ID', 'PDF', 'ZGRID'])"
      ]
     },
     "execution_count": 35,
     "metadata": {},
     "output_type": "execute_result"
    }
   ],
   "source": [
    "probs.keys()"
   ]
  },
  {
   "cell_type": "code",
   "execution_count": 37,
   "metadata": {},
   "outputs": [
    {
     "data": {
      "text/plain": [
       "['ID: (4,)', 'PDF: (4, 1000)', 'ZGRID: (1000,)']"
      ]
     },
     "execution_count": 37,
     "metadata": {},
     "output_type": "execute_result"
    }
   ],
   "source": [
    "[f'{key}: {val.shape}' for key, val in probs.items()]"
   ]
  },
  {
   "cell_type": "markdown",
   "metadata": {},
   "source": [
    "Es decir, cada objeto tiene un ID y una lista de probabilidad para cada intervalo de redshift en los valores definidos en ``zgrid``. Así,"
   ]
  },
  {
   "cell_type": "code",
   "execution_count": 46,
   "metadata": {},
   "outputs": [
    {
     "data": {
      "image/png": "[encoded data removed]",
      "text/plain": [
       "<Figure size 1152x252 with 4 Axes>"
      ]
     },
     "metadata": {
      "needs_background": "light"
     },
     "output_type": "display_data"
    }
   ],
   "source": [
    "z = probs['ZGRID']\n",
    "fig, axes = plt.subplots(1, 4, figsize=(16,3.5))\n",
    "for i, ax in enumerate(axes):\n",
    "    ax.plot(z, probs['PDF'][i], label=probs['ID'][i])\n",
    "    ax.axvline(bpz['Z_S'][bpz['ID'] == probs['ID'][i]], color='C1', label='Spectroscopic')\n",
    "    ax.legend()\n",
    "    ax.set(xlabel='z')\n",
    "axes[0].set(ylabel='p(z)')\n",
    "fig.tight_layout()"
   ]
  }
 ],
 "metadata": {
  "kernelspec": {
   "display_name": "Python [conda env:astroconda]",
   "language": "python",
   "name": "conda-env-astroconda-py"
  },
  "language_info": {
   "codemirror_mode": {
    "name": "ipython",
    "version": 3
   },
   "file_extension": ".py",
   "mimetype": "text/x-python",
   "name": "python",
   "nbconvert_exporter": "python",
   "pygments_lexer": "ipython3",
   "version": "3.6.13"
  }
 },
 "nbformat": 4,
 "nbformat_minor": 4
}
